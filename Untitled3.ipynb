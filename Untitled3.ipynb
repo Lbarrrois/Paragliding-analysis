{
 "cells": [
  {
   "cell_type": "markdown",
   "id": "43930abb-8023-4602-b80e-145c5f8a013d",
   "metadata": {},
   "source": [
    "## test length traces"
   ]
  },
  {
   "cell_type": "code",
   "execution_count": 1,
   "id": "dad5b5a9-6a6d-4887-af1a-04fd7517c89a",
   "metadata": {},
   "outputs": [
    {
     "name": "stderr",
     "output_type": "stream",
     "text": [
      "C:\\Users\\barroisl\\AppData\\Local\\Temp\\ipykernel_16844\\3735118499.py:11: DeprecationWarning: \n",
      "Pyarrow will become a required dependency of pandas in the next major release of pandas (pandas 3.0),\n",
      "(to allow more performant data types, such as the Arrow string type, and better interoperability with other libraries)\n",
      "but was not found to be installed on your system.\n",
      "If this would cause problems for you,\n",
      "please provide us feedback at https://github.com/pandas-dev/pandas/issues/54466\n",
      "        \n",
      "  import pandas as pd\n"
     ]
    }
   ],
   "source": [
    "from reader import Reader\n",
    "import matplotlib.pyplot as plt\n",
    "import numpy as np\n",
    "from math import sin, cos, sqrt, atan2, radians\n",
    "from datetime import datetime\n",
    "from datetime import date as date_creator\n",
    "import cartopy\n",
    "import cartopy.crs as ccrs\n",
    "import cartopy.feature as cfeature\n",
    "from numba import njit\n",
    "import pandas as pd\n",
    "import os\n",
    "from numba import jit\n",
    "\n",
    "%matplotlib inline"
   ]
  },
  {
   "cell_type": "code",
   "execution_count": 2,
   "id": "57fe69ae-8ee4-4927-ac91-6885c9cb6542",
   "metadata": {},
   "outputs": [],
   "source": [
    "def smooth(x,window_len=11,window='hanning'):\n",
    "        if x.ndim != 1:\n",
    "                raise ValueError(\"smooth only accepts 1 dimension arrays.\")\n",
    "        if x.size < window_len:\n",
    "                raise ValueError(\"Input vector needs to be bigger than window size.\")\n",
    "        if window_len<3:\n",
    "                return x\n",
    "        if not window in ['flat', 'hanning', 'hamming', 'bartlett', 'blackman']:\n",
    "                raise ValueError(\"Window is on of 'flat', 'hanning', 'hamming', 'bartlett', 'blackman'\")\n",
    "        s=np.r_[2*x[0]-x[window_len-1::-1],x,2*x[-1]-x[-1:-window_len:-1]]\n",
    "        if window == 'flat': #moving average\n",
    "                w=np.ones(window_len,'d')\n",
    "        else:\n",
    "                w=eval('np.'+window+'(window_len)')\n",
    "        y=np.convolve(w/w.sum(),s,mode='same')\n",
    "        return y[window_len:-window_len+1]\n",
    "def get_date_time_dif(start_time,stop_time):\n",
    "    date = date_creator(1, 1, 1)\n",
    "    datetime1 = datetime.combine(date, start_time)\n",
    "    datetime2 = datetime.combine(date, stop_time)\n",
    "    time_elapsed = datetime1 - datetime2\n",
    "    return time_elapsed.total_seconds()\n",
    "def compute_dist(lat1,lon1,lat2,lon2,rad=True):\n",
    "    if not(rad):\n",
    "        lat1 = radians(lat1)\n",
    "        lon1 = radians(lon1)\n",
    "        lat2 = radians(lat2)\n",
    "        lon2 = radians(lon2)\n",
    "    # approximate radius of earth in m\n",
    "    R = 6373_000.0\n",
    "    dlon = lon2 - lon1\n",
    "    dlat = lat2 - lat1\n",
    "    a = sin(dlat / 2) ** 2 + cos(lat1) * cos(lat2) * sin(dlon / 2) ** 2\n",
    "    c = 2 * atan2(sqrt(a), sqrt(1 - a))\n",
    "    return R * c\n",
    "def remove_zero_from_alti(alti):\n",
    "    if alti[0] < 10 :\n",
    "        alti[0] = alti[1]\n",
    "    if alti[-1] < 10 :\n",
    "        alti[-1] = alti[-2]\n",
    "    for i,alt in enumerate(alti):\n",
    "        if alt < 10 :\n",
    "            if i >= len(alti)-1 :\n",
    "                alti[i] = (alti[i-1]+alti[i])/2\n",
    "            else :  \n",
    "                alti[i] = (alti[i-1]+alti[i+1])/2\n",
    "    return alti\n",
    "\n",
    "def read_igc(file):\n",
    "    with open(file, 'r') as f:\n",
    "        parsed_igc_file = Reader().read(f)\n",
    "    # print('igc_file created')\n",
    "    previous_lat = 0\n",
    "    previous_lon = 0\n",
    "    \n",
    "    all_lon = np.zeros(len(parsed_igc_file['fix_records'][1]))\n",
    "    all_lat = np.zeros(len(parsed_igc_file['fix_records'][1]))\n",
    "    all_speed=np.zeros(len(parsed_igc_file['fix_records'][1]))\n",
    "    all_vz=np.zeros(len(parsed_igc_file['fix_records'][1]))\n",
    "    all_alti=np.zeros(len(parsed_igc_file['fix_records'][1]))\n",
    "    all_time=[0 for _ in range(len(parsed_igc_file['fix_records'][1]))]\n",
    "\n",
    "    for i,record in enumerate(parsed_igc_file['fix_records'][1]):\n",
    "        record['time'] = record['time'].replace(hour=record['time'].hour + 1)\n",
    "        all_lat[i] = record['lat']\n",
    "        all_lon[i] = record['lon']\n",
    "        if previous_lon ==0 :\n",
    "            previous_lat = record['lat']\n",
    "            previous_lon = record['lon']\n",
    "            previous_datetime = record['time']\n",
    "            previous_alt_gps = record['gps_alt']\n",
    "            # previous_alt_baro = record['pressure_alt']\n",
    "            all_time[i] = record['time']\n",
    "        else :\n",
    "            dxy = abs(compute_dist(previous_lat,previous_lon,record['lat'],record['lon'],rad=False))\n",
    "            # dz = previous_alt_baro-record['pressure_alt']\n",
    "            dz = previous_alt_gps-record['gps_alt']\n",
    "            dt = get_date_time_dif(record['time'],previous_datetime)\n",
    "            # if dt>2 : print('dtttttt>2 ',dt)\n",
    "            if dt>0 :\n",
    "                all_speed[i] = min(100,dxy/dt*3.6)\n",
    "                all_vz[i] = dz/dt\n",
    "            all_alti[i] = record['gps_alt']\n",
    "            all_time[i] = record['time']\n",
    "            \n",
    "            previous_lat = record['lat']\n",
    "            previous_lon = record['lon']\n",
    "            previous_datetime = record['time']\n",
    "            previous_alt_gps = record['gps_alt']\n",
    "            # previous_alt_baro = record['pressure_alt']\n",
    "\n",
    "            # if previous_datetime.hour>10 :\n",
    "            #     all_speed = all_speed[:i]\n",
    "            #     all_vz = all_vz[:i]\n",
    "            #     all_alti = all_alti[:i]\n",
    "            #     break\n",
    "#    return all_lon,all_lat,all_speed,all_vz,remove_zero_from_alti(all_alti),all_time\n",
    "    return all_lon,all_lat,all_alti,all_time\n",
    "\n",
    "def reshape_array(arr,time_vid):\n",
    "    nb_img_by_sec = 24\n",
    "    \n",
    "    t_true = np.linspace(time_vid[0], time_vid[-1], num=len(time_vid), endpoint=True)\n",
    "    t_inter = np.linspace(time_vid[0], time_vid[-1], num=int(len(time_vid)*nb_img_by_sec/speed_acc), endpoint=True)\n",
    "    f = interp1d(t_true, arr, kind='cubic')\n",
    "\n",
    "    return f(t_inter)\n",
    "\n",
    "def smooth_igc_output(L_all):\n",
    "    all_ret = []\n",
    "    for l_val in L_all:\n",
    "        l_val[0]=l_val[1]#=np.mean(l_val[:int(len(l_val)/10)])\n",
    "        smoothed = smooth(l_val,50,'hanning')\n",
    "        all_ret.append(smoothed)\n",
    "    return all_ret\n",
    "\n",
    "def plot_smooth_non_smooth(smooth,non_smooth):\n",
    "    plt.figure(figsize=(18,9))\n",
    "    plt.plot(non_smooth)\n",
    "    plt.plot(smooth)\n",
    "    plt.show()\n",
    "\n",
    "def get_last_date_of_all_raw_file(path_raw_file):\n",
    "    delta_time_writing = 20\n",
    "    all_ending_time = []\n",
    "    for file in os.listdir(path_raw_file):\n",
    "        if \"_11_\" in file :\n",
    "            time_end = os.path.getmtime(path_raw_file+'\\\\'+file)\n",
    "            all_ending_time.append(datetime.fromtimestamp(time_end-delta_time_writing).time())\n",
    "    return all_ending_time\n",
    "\n",
    "def convert_time_to_sec(all_time):\n",
    "    for i in range(len(all_time)):\n",
    "        all_time[i] = all_time[i].hour*3600 + all_time[i].minute*60 + all_time[i].second\n",
    "    return np.array(all_time,dtype=np.float32)"
   ]
  },
  {
   "cell_type": "code",
   "execution_count": 3,
   "id": "9f16536d-053d-4a61-a99e-0ad5e931cbcb",
   "metadata": {},
   "outputs": [
    {
     "name": "stdout",
     "output_type": "stream",
     "text": [
      "72\n"
     ]
    }
   ],
   "source": [
    "from os import listdir\n",
    "from os.path import isfile, join\n",
    "path = 'C:/Users/barroisl/Documents/Stage_Léo/Vols/IGC_20-08-2023/Parapente_old/'\n",
    "#path = 'IGC_20-08-2023/'\n",
    "#list_files = [path+f for f in listdir(path) if isfile(join(path, f))]\n",
    "list_files = [f for f in listdir(path) if isfile(join(path, f))]\n",
    "\n",
    "print(len(list_files))"
   ]
  },
  {
   "cell_type": "code",
   "execution_count": 4,
   "id": "e999f46e-eeec-4aa8-a635-9fd3d3b1485d",
   "metadata": {},
   "outputs": [],
   "source": [
    "path_file = 'C:/Users/barroisl/Documents/Stage_Léo/Vols/IGC_19-08-2023/Parapente/1692426022.84_64e05f26cd2d3.igc'\n",
    "all_lon,all_lat,all_alti,all_time = read_igc(path_file)"
   ]
  },
  {
   "cell_type": "code",
   "execution_count": 5,
   "id": "a0d52938-ed0b-49ef-b27a-2a781528465c",
   "metadata": {},
   "outputs": [
    {
     "name": "stdout",
     "output_type": "stream",
     "text": [
      "513\n"
     ]
    }
   ],
   "source": [
    "print(len(all_time))"
   ]
  },
  {
   "cell_type": "code",
   "execution_count": 7,
   "id": "ec8137b5-b255-4479-b1c8-8796fd4b53d8",
   "metadata": {},
   "outputs": [],
   "source": [
    "path_trace = 'T:/C2H/STAGES/LEO_BARROIS/ndarray/traces/IGC_19-08-2023/Parapente/1692426022.84_64e05f26cd2d3.igc.npy'\n",
    "np_load_old = np.load\n",
    "np.load = lambda *a,**k: np_load_old(*a, allow_pickle=True, **k)\n",
    "datas = np.load(path_trace)\n",
    "np.load = np_load_old"
   ]
  },
  {
   "cell_type": "code",
   "execution_count": 8,
   "id": "39989266-7556-47d1-855b-8aa4af7d8479",
   "metadata": {},
   "outputs": [],
   "source": [
    "all_time = datas[:,3]"
   ]
  },
  {
   "cell_type": "code",
   "execution_count": 9,
   "id": "f8bfd8bf-1b69-41d9-99d2-ef1ee32055d0",
   "metadata": {},
   "outputs": [
    {
     "name": "stdout",
     "output_type": "stream",
     "text": [
      "513\n"
     ]
    }
   ],
   "source": [
    "print(len(all_time))"
   ]
  },
  {
   "cell_type": "code",
   "execution_count": 16,
   "id": "a15c681f-5b15-4abe-b105-a408ac1cca27",
   "metadata": {},
   "outputs": [],
   "source": [
    "lengths = []\n",
    "for i in os.listdir('C:/Users/barroisl/Documents/Stage_Léo/Vols/IGC_19-08-2023/Parapente/') :\n",
    "    all_lon,all_lat,all_alti,all_time = read_igc(os.path.join('C:/Users/barroisl/Documents/Stage_Léo/Vols/IGC_19-08-2023/Parapente/',i))\n",
    "#    np_load_old = np.load\n",
    "#    np.load = lambda *a,**k: np_load_old(*a, allow_pickle=True, **k)\n",
    "#    datas = np.load('T:/C2H/STAGES/LEO_BARROIS/ndarray/traces/IGC_19-08-2023/Parapente/'+i+'.npy')\n",
    "#    np.load = np_load_old\n",
    "#    times = datas[:,3]\n",
    "#    print(len(all_time) - len(times))\n",
    "    lengths.append(len(all_time))\n",
    "np.save('C:/Users/barroisl/Documents/Stage_Léo/Vols/IGC_19-08-2023/test_time.npy', lengths)"
   ]
  },
  {
   "cell_type": "code",
   "execution_count": 14,
   "id": "a742f80a-0531-4b6c-af86-0891d46710c0",
   "metadata": {},
   "outputs": [
    {
     "ename": "ModuleNotFoundError",
     "evalue": "No module named 'igc_lib'",
     "output_type": "error",
     "traceback": [
      "\u001b[1;31m---------------------------------------------------------------------------\u001b[0m",
      "\u001b[1;31mModuleNotFoundError\u001b[0m                       Traceback (most recent call last)",
      "Cell \u001b[1;32mIn[14], line 1\u001b[0m\n\u001b[1;32m----> 1\u001b[0m \u001b[38;5;28;01mimport\u001b[39;00m \u001b[38;5;21;01migc_lib\u001b[39;00m\n\u001b[0;32m      2\u001b[0m flight \u001b[38;5;241m=\u001b[39m path_file\n\u001b[0;32m      3\u001b[0m test \u001b[38;5;241m=\u001b[39m igc_lib\u001b[38;5;241m.\u001b[39mFlight\u001b[38;5;241m.\u001b[39mcreate_from_file(flight, config_class\u001b[38;5;241m=\u001b[39migc_lib\u001b[38;5;241m.\u001b[39mFlightParsingConfig)\n",
      "\u001b[1;31mModuleNotFoundError\u001b[0m: No module named 'igc_lib'"
     ]
    }
   ],
   "source": [
    "import igc_lib\n",
    "flight = path_file\n",
    "test = igc_lib.Flight.create_from_file(flight, config_class=igc_lib.FlightParsingConfig)"
   ]
  },
  {
   "cell_type": "code",
   "execution_count": null,
   "id": "c45d9d28-e5a8-41a2-974f-a9276c414a7b",
   "metadata": {},
   "outputs": [],
   "source": [
    "for i in range"
   ]
  }
 ],
 "metadata": {
  "kernelspec": {
   "display_name": "Python 3 (ipykernel)",
   "language": "python",
   "name": "python3"
  },
  "language_info": {
   "codemirror_mode": {
    "name": "ipython",
    "version": 3
   },
   "file_extension": ".py",
   "mimetype": "text/x-python",
   "name": "python",
   "nbconvert_exporter": "python",
   "pygments_lexer": "ipython3",
   "version": "3.12.1"
  }
 },
 "nbformat": 4,
 "nbformat_minor": 5
}
