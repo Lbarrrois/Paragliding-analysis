{
 "cells": [
  {
   "cell_type": "markdown",
   "id": "458f5e92-f136-4733-b9dd-38454d9a6129",
   "metadata": {},
   "source": [
    "# Séparation stations netatmo en fonction de la date : Done"
   ]
  },
  {
   "cell_type": "code",
   "execution_count": 15,
   "id": "21157b2d-e7a1-4437-acb0-b22f859e03d0",
   "metadata": {},
   "outputs": [],
   "source": [
    "from reader import Reader\n",
    "import matplotlib.pyplot as plt\n",
    "import numpy as np\n",
    "from math import sin, cos, sqrt, atan2, radians\n",
    "from datetime import datetime\n",
    "from datetime import date as date_creator\n",
    "import cartopy\n",
    "import cartopy.crs as ccrs\n",
    "import cartopy.feature as cfeature\n",
    "from numba import njit\n",
    "\n",
    "%matplotlib inline\n",
    "\n",
    "from os import listdir\n",
    "from os.path import isfile, join\n",
    "import shutil\n",
    "import os"
   ]
  },
  {
   "cell_type": "code",
   "execution_count": 11,
   "id": "da5a795f-e787-43c2-bc15-7305dd49618e",
   "metadata": {},
   "outputs": [],
   "source": [
    "def move_and_delete_file(repository, filename, destination_folder):\n",
    "    file_directory = join(repository, filename)\n",
    "    destination_path = join(destination_folder, filename)\n",
    "    shutil.copy2(file_directory, destination_path)\n",
    "    os.remove(file_directory)"
   ]
  },
  {
   "cell_type": "code",
   "execution_count": 10,
   "id": "e23a69f7-64d4-490c-aa36-ac09c4fe79f9",
   "metadata": {},
   "outputs": [
    {
     "name": "stdout",
     "output_type": "stream",
     "text": [
      "18\n"
     ]
    }
   ],
   "source": [
    "repos = ['19-08-2023/','20-08-2023/','21-08-2023/','22-08-2023/','23-08-2023/','23-08-2023/']\n",
    "\n",
    "path_netatmo = 'C:/Users/barroisl/Documents/Stage_Léo/Stations/Observations_NETATMO/TEMP_HUM_RELATIVE/'\n",
    "\n",
    "list_netatmo = [f for f in listdir(path_netatmo) if isfile(join(path_netatmo, f))]\n",
    "\n",
    "print(list_netatmo[0][-12:-10])"
   ]
  },
  {
   "cell_type": "code",
   "execution_count": 16,
   "id": "f40e160a-e8f1-4c72-bc49-49f8bb4d2824",
   "metadata": {},
   "outputs": [],
   "source": [
    "for i in list_netatmo :\n",
    "    day_i = i[-12:-10]\n",
    "    if day_i.isdigit() :\n",
    "        day_i = int(day_i)\n",
    "        if day_i == 19 :\n",
    "            destination_folder = join(path_netatmo, repos[0])\n",
    "            move_and_delete_file(path_netatmo, i, destination_folder)\n",
    "        if day_i == 20 :\n",
    "            destination_folder = join(path_netatmo, repos[1])\n",
    "            move_and_delete_file(path_netatmo, i, destination_folder)\n",
    "        if day_i == 21 :\n",
    "            destination_folder = join(path_netatmo, repos[2])\n",
    "            move_and_delete_file(path_netatmo, i, destination_folder)\n",
    "        if day_i == 22 :\n",
    "            destination_folder = join(path_netatmo, repos[3])\n",
    "            move_and_delete_file(path_netatmo, i, destination_folder)\n",
    "        if day_i == 23 :\n",
    "            destination_folder = join(path_netatmo, repos[4])\n",
    "            move_and_delete_file(path_netatmo, i, destination_folder)\n",
    "        if day_i == 24 :\n",
    "            destination_folder = join(path_netatmo, repos[5])\n",
    "            move_and_delete_file(path_netatmo, i, destination_folder)"
   ]
  },
  {
   "cell_type": "markdown",
   "id": "62184dd1-3cba-4ad1-879f-5248849545e6",
   "metadata": {},
   "source": [
    "# Séparation stations météo-france en fonction de la date : Done"
   ]
  },
  {
   "cell_type": "code",
   "execution_count": 25,
   "id": "c31d857e-9b05-43d0-8fb2-d3a9140e95ed",
   "metadata": {},
   "outputs": [
    {
     "name": "stdout",
     "output_type": "stream",
     "text": [
      "19\n"
     ]
    }
   ],
   "source": [
    "repos = ['19-08-2023/','20-08-2023/','21-08-2023/','22-08-2023/','23-08-2023/','23-08-2023/']\n",
    "\n",
    "path_meteo_france = 'C:/Users/barroisl/Documents/Stage_Léo/Stations/Observations_Meteo-France_et_partenaires/'\n",
    "\n",
    "list_meteo_france = [f for f in listdir(path_meteo_france) if isfile(join(path_meteo_france, f))]\n",
    "    \n",
    "print(list_meteo_france[0][-15:-13])"
   ]
  },
  {
   "cell_type": "code",
   "execution_count": 26,
   "id": "85676a98-99d8-46ca-ac83-d3a238c16d8e",
   "metadata": {},
   "outputs": [],
   "source": [
    "for i in list_meteo_france :\n",
    "    day_i = i[-15:-13]\n",
    "    if day_i.isdigit() :\n",
    "        day_i = int(day_i)\n",
    "        if day_i == 19 :\n",
    "            destination_folder = join(path_meteo_france, repos[0])\n",
    "            move_and_delete_file(path_meteo_france, i, destination_folder)\n",
    "        if day_i == 20 :\n",
    "            destination_folder = join(path_meteo_france, repos[1])\n",
    "            move_and_delete_file(path_meteo_france, i, destination_folder)\n",
    "        if day_i == 21 :\n",
    "            destination_folder = join(path_meteo_france, repos[2])\n",
    "            move_and_delete_file(path_meteo_france, i, destination_folder)\n",
    "        if day_i == 22 :\n",
    "            destination_folder = join(path_meteo_france, repos[3])\n",
    "            move_and_delete_file(path_meteo_france, i, destination_folder)\n",
    "        if day_i == 23 :\n",
    "            destination_folder = join(path_meteo_france, repos[4])\n",
    "            move_and_delete_file(path_meteo_france, i, destination_folder)\n",
    "        if day_i == 24 :\n",
    "            destination_folder = join(path_meteo_france, repos[5])\n",
    "            move_and_delete_file(path_meteo_france, i, destination_folder)"
   ]
  }
 ],
 "metadata": {
  "kernelspec": {
   "display_name": "Python 3 (ipykernel)",
   "language": "python",
   "name": "python3"
  },
  "language_info": {
   "codemirror_mode": {
    "name": "ipython",
    "version": 3
   },
   "file_extension": ".py",
   "mimetype": "text/x-python",
   "name": "python",
   "nbconvert_exporter": "python",
   "pygments_lexer": "ipython3",
   "version": "3.12.1"
  }
 },
 "nbformat": 4,
 "nbformat_minor": 5
}
