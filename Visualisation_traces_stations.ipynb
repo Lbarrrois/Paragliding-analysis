{
 "cells": [
  {
   "cell_type": "markdown",
   "id": "f0f9eedc-ca38-44e4-8e97-c0691b8a4d77",
   "metadata": {},
   "source": [
    "Visualisation of the flights extent and stations positions for the 6 days from the 19th to the 24th of August 2024. \n",
    "\n",
    "Organised as follow :\n",
    "\n",
    "    - Imports\n",
    "    - Function of maping for stations and flights\n",
    "    - Plotting"
   ]
  },
  {
   "cell_type": "markdown",
   "id": "c08b08a6-773d-4821-93a3-eca4193c518d",
   "metadata": {
    "jp-MarkdownHeadingCollapsed": true
   },
   "source": [
    "## Imports"
   ]
  },
  {
   "cell_type": "code",
   "execution_count": 1,
   "id": "e1e22af2-f275-4a06-a7d3-66308889bd8b",
   "metadata": {},
   "outputs": [],
   "source": [
    "from base_Imports_and_Functions import *"
   ]
  },
  {
   "cell_type": "markdown",
   "id": "68837680-5c64-4388-8715-620a205b1aeb",
   "metadata": {},
   "source": [
    "## Maping"
   ]
  },
  {
   "cell_type": "markdown",
   "id": "242c16d1-13a9-4af3-925c-622e04989197",
   "metadata": {
    "jp-MarkdownHeadingCollapsed": true
   },
   "source": [
    "### Stations"
   ]
  },
  {
   "cell_type": "code",
   "execution_count": 11,
   "id": "d389d2d7-ba34-467f-a938-f1ae7408a810",
   "metadata": {},
   "outputs": [],
   "source": [
    "def netatmo_txt(text_file):\n",
    "    # Read the text file and split lines\n",
    "    with open(text_file, 'r') as file:\n",
    "        lines = file.readlines()\n",
    "\n",
    "    # Extract column names from the first line (assuming it contains column headers)\n",
    "    column_names = ['id','lon','lat','alt','T','hu','Tbrut','hubrut','t0','t1']\n",
    "    # Create an empty dictionary to store data for each column\n",
    "    data = {col: [] for col in column_names}\n",
    "\n",
    "    # Iterate over the remaining lines to extract data for each column\n",
    "    for line in lines[1:]:\n",
    "        values = line.strip().split(' ')\n",
    "        for col, val in zip(column_names, values):\n",
    "            if col != 'id' :\n",
    "                data[col].append(float(val))\n",
    "            else :\n",
    "                data[col].append(val)\n",
    "\n",
    "    # Create a DataFrame from the collected data\n",
    "    df = pd.DataFrame(data)\n",
    "\n",
    "    return df\n",
    "\n",
    "def all_txt(directory):\n",
    "    \n",
    "    dfs = []\n",
    "\n",
    "    text_files = [f for f in os.listdir(directory) if f.endswith('.txt')]\n",
    "    for text_file in text_files:\n",
    "        file_path = join(directory,text_file)\n",
    "        # Read each text file into a DataFrame\n",
    "        df = netatmo_txt(file_path)  \n",
    "        dfs.append(df)\n",
    "        \n",
    "    concatenated_df = pd.concat(dfs, ignore_index=True)\n",
    "\n",
    "    return concatenated_df\n",
    "\n",
    "def convert_to_datetime(datetime_string):\n",
    "    datetime_obj = datetime.strptime(datetime_string, '%Y%m%d%H%M%S')\n",
    "    return datetime_obj\n",
    "\n",
    "def is_a_letter_in(string) :\n",
    "    res = []\n",
    "    for i in string :\n",
    "        res.append(i.isalpha())\n",
    "    if True in res :\n",
    "        return True\n",
    "    else :\n",
    "        return False\n",
    "\n",
    "def test_string(s,name_col):\n",
    "    if '\\\\' in s:\n",
    "        return np.nan\n",
    "    elif s.strip() == '':\n",
    "        return np.nan  \n",
    "    elif s.isalpha() :\n",
    "        return s\n",
    "    elif name_col == 'date' :\n",
    "        return convert_to_datetime(s)\n",
    "    else:\n",
    "        try:\n",
    "            if float(s) == 999999 :\n",
    "                return np.nan\n",
    "            else : \n",
    "                return float(s)\n",
    "        except ValueError:\n",
    "            return s\n",
    "\n",
    "def meteo_france_txt(text_file):\n",
    "    # Read the text file and split lines\n",
    "    with open(text_file, 'r') as file:\n",
    "        lines = file.readlines()\n",
    "\n",
    "    # Extract column names from the first line (assuming it contains column headers)\n",
    "    column_names = ['date','type','n°OMM','n°Météo-France','nom_sta','lon','lat',\n",
    "                    'altitude_baromètre (m)','altitude_station (m)','pression (Pa)',\n",
    "                   'pr_nmer', 'T-1.5','T_r','hu','precip_1h','dir_vent_moy',\n",
    "                   'u_moy','u_inst','dir_vent_inst','u_vent_inst_max']\n",
    "    # Create an empty dictionary to store data for each column\n",
    "    data = {col: [] for col in column_names}\n",
    "\n",
    "    # Iterate over the remaining lines to extract data for each column\n",
    "    for line in lines[1:]:\n",
    "        values = line.strip().split(';')\n",
    "        if len(column_names) == len(values) -1 : \n",
    "            for col, val in zip(column_names, values):\n",
    "                data[col].append(test_string(val,col))\n",
    "\n",
    "    # Create a DataFrame from the collected data\n",
    "    df = pd.DataFrame(data)\n",
    "\n",
    "    return df\n",
    "\n",
    "def all_txt_mf(directory):\n",
    "    \n",
    "    dfs = []\n",
    "\n",
    "    text_files = [f for f in os.listdir(directory) if f.endswith('.txt')]\n",
    "    for text_file in text_files:\n",
    "        file_path = join(directory,text_file)\n",
    "        # Read each text file into a DataFrame\n",
    "        df = meteo_france_txt(file_path)  \n",
    "        dfs.append(df)\n",
    "        \n",
    "    concatenated_df = pd.concat(dfs, ignore_index=True)\n",
    "\n",
    "    return concatenated_df\n",
    "\n",
    "def map_station_fond(img_extent,lon,lat,ax,alpha,color,titre,s, ticks=False):\n",
    "\n",
    "    min_lon,max_lon,min_lat,max_lat =img_extent[0],img_extent[1],img_extent[2],img_extent[3]\n",
    "    \n",
    "    ax.stock_img()\n",
    "    ax.set_extent([min_lon,max_lon,min_lat,max_lat], crs=ccrs.PlateCarree())\n",
    "    if ticks:\n",
    "        ax.set_xticks(np.round(np.arange(min_lon,max_lon, 1)), crs=ccrs.PlateCarree())\n",
    "        ax.set_yticks(np.round(np.arange(min_lat+1,max_lat, 1)), crs=ccrs.PlateCarree())\n",
    "        ax.set_xlabel(\"Longitude\")\n",
    "        ax.set_ylabel(\"Latitude\")\n",
    "    ax.add_feature(cfeature.LAND)\n",
    "    ax.add_feature(cfeature.OCEAN)\n",
    "    ax.add_feature(cfeature.COASTLINE)\n",
    "    ax.add_feature(cfeature.BORDERS, linestyle=':')\n",
    "    ax.set_title(titre,fontsize=25)\n",
    "    scatt = ax.scatter(lon,lat, alpha=alpha, s=s, marker='.', color = color)"
   ]
  },
  {
   "cell_type": "code",
   "execution_count": 10,
   "id": "05d87edf-9e09-483d-a4bc-0ae7f83baafe",
   "metadata": {},
   "outputs": [
    {
     "name": "stderr",
     "output_type": "stream",
     "text": [
      "100%|████████████████████████████████████████████████████████████████████████████████████| 6/6 [00:04<00:00,  1.41it/s]\n",
      "100%|████████████████████████████████████████████████████████████████████████████████████| 6/6 [00:45<00:00,  7.61s/it]\n"
     ]
    }
   ],
   "source": [
    "repos = ['19-08-2023/','20-08-2023/','21-08-2023/','22-08-2023/','23-08-2023/','23-08-2023/']\n",
    "dfs_daytoday = []\n",
    "path_netatmo = 'C:/Users/barroisl/Documents/Stage_Leo/Stations/Observations_NETATMO/TEMP_HUM_RELATIVE/'\n",
    "\n",
    "for i in tqdm(repos) :\n",
    "    dfs_daytoday.append(all_txt(join(path_netatmo,i)))\n",
    "\n",
    "repos = ['19-08-2023/','20-08-2023/','21-08-2023/','22-08-2023/','23-08-2023/','23-08-2023/']\n",
    "dfs_daytoday_mf = []\n",
    "directory_mf = 'C:/Users/barroisl/Documents/Stage_Leo/Stations/Observations_Meteo-France_et_partenaires/'\n",
    "\n",
    "for i in tqdm(repos) :\n",
    "    dfs_daytoday_mf.append(all_txt_mf(join(directory_mf,i)))"
   ]
  },
  {
   "cell_type": "markdown",
   "id": "6ca0eea4-35ce-4841-b944-f519343f5650",
   "metadata": {
    "jp-MarkdownHeadingCollapsed": true
   },
   "source": [
    "### Flights"
   ]
  },
  {
   "cell_type": "code",
   "execution_count": 2,
   "id": "802d9f19-403f-4abf-9ef7-3489947d258d",
   "metadata": {},
   "outputs": [],
   "source": [
    "@njit\n",
    "def filter_list_2(lst1, lst2, threshold_low1=None, threshold_high1=None, threshold_low2=None, threshold_high2=None):\n",
    "    filtered_list1 = []\n",
    "    filtered_list2 = []\n",
    "    for item1,item2 in zip(lst1,lst2):\n",
    "        if threshold_low1 is not None and item1 < threshold_low1:\n",
    "            continue\n",
    "        if threshold_high1 is not None and item1 > threshold_high1:\n",
    "            continue\n",
    "        if threshold_low2 is not None and item2 < threshold_low2:\n",
    "            continue\n",
    "        if threshold_high2 is not None and item2 > threshold_high2:\n",
    "            continue\n",
    "        filtered_list1.append(item1)\n",
    "        filtered_list2.append(item2)\n",
    "    return filtered_list1,filtered_list2\n",
    "\n",
    "def map_all_flights_fond_para_plan(img_extent,directory,ax,type_vol,color,titre,ind1,ind2, ticks=True,cmap='None',vmin=-5,vmax=5):\n",
    "\n",
    "    min_lon,max_lon,min_lat,max_lat =img_extent[0],img_extent[1],img_extent[2],img_extent[3]\n",
    "    ax.stock_img()\n",
    "    ax.set_extent([min_lon,max_lon,min_lat,max_lat], crs=ccrs.PlateCarree())\n",
    "    if ind1 % 3 == 0:\n",
    "        ax.set_yticks(np.round(np.arange(min_lat+1,max_lat, 1)), crs=ccrs.PlateCarree())\n",
    "        ax.set_ylabel(\"°N\",fontsize = 25)\n",
    "\n",
    "    if ind2 // 3 == 1:\n",
    "        ax.set_xticks(np.round(np.arange(min_lon,max_lon, 1)),crs=ccrs.PlateCarree())\n",
    "        ax.set_xlabel(\"°E\",fontsize = 25)\n",
    "\n",
    "    ax.add_feature(cfeature.LAND)\n",
    "    ax.add_feature(cfeature.OCEAN)\n",
    "    ax.add_feature(cfeature.COASTLINE)\n",
    "    ax.add_feature(cfeature.BORDERS, linestyle=':')\n",
    "    ax.set_title(titre,fontsize=25)\n",
    "    if type_vol == 'para' :\n",
    "        path = join(directory,'Parapente/')\n",
    "    elif type_vol == 'plan' :\n",
    "        path = join(directory,'Planeur/')\n",
    "    else :\n",
    "        path = ''\n",
    "    liste_f = liste_files(join(directory,path))\n",
    "    for i,file in tqdm(enumerate(liste_f)):\n",
    "        print(i,end=' ')\n",
    "        lon,lat,alti,time = read_igc(join(directory,join(path,file)))\n",
    "        lon,lat = filter_list_2(lon, lat, min_lon-10, max_lon+10,min_lat-10, max_lat+10)\n",
    "        if cmap=='None':\n",
    "            ax.plot(lon,lat,color,alpha = 0.3, linewidth = 0.5)"
   ]
  },
  {
   "cell_type": "markdown",
   "id": "d1e72a6a-a330-4395-906b-e04e62cd460e",
   "metadata": {
    "jp-MarkdownHeadingCollapsed": true
   },
   "source": [
    "## Plotting"
   ]
  },
  {
   "cell_type": "code",
   "execution_count": 4,
   "id": "702f01f6-4229-4607-9eae-dbe692c3a131",
   "metadata": {},
   "outputs": [
    {
     "ename": "NameError",
     "evalue": "name 'dfs_daytoday' is not defined",
     "output_type": "error",
     "traceback": [
      "\u001b[1;31m---------------------------------------------------------------------------\u001b[0m",
      "\u001b[1;31mNameError\u001b[0m                                 Traceback (most recent call last)",
      "Cell \u001b[1;32mIn[4], line 15\u001b[0m\n\u001b[0;32m     13\u001b[0m ax \u001b[38;5;241m=\u001b[39m axs[i\u001b[38;5;241m/\u001b[39m\u001b[38;5;241m/\u001b[39m\u001b[38;5;241m3\u001b[39m,i\u001b[38;5;241m%\u001b[39m\u001b[38;5;241m3\u001b[39m]\n\u001b[0;32m     14\u001b[0m img \u001b[38;5;241m=\u001b[39m plt\u001b[38;5;241m.\u001b[39mimread(directory_sat\u001b[38;5;241m+\u001b[39mfnames[i])\n\u001b[1;32m---> 15\u001b[0m lon,lat \u001b[38;5;241m=\u001b[39m \u001b[43mdfs_daytoday\u001b[49m[i][\u001b[38;5;124m'\u001b[39m\u001b[38;5;124mlon\u001b[39m\u001b[38;5;124m'\u001b[39m],dfs_daytoday[i][\u001b[38;5;124m'\u001b[39m\u001b[38;5;124mlat\u001b[39m\u001b[38;5;124m'\u001b[39m]\n\u001b[0;32m     16\u001b[0m lon_mf,lat_mf \u001b[38;5;241m=\u001b[39m dfs_daytoday_mf[i][\u001b[38;5;124m'\u001b[39m\u001b[38;5;124mlon\u001b[39m\u001b[38;5;124m'\u001b[39m],dfs_daytoday_mf[i][\u001b[38;5;124m'\u001b[39m\u001b[38;5;124mlat\u001b[39m\u001b[38;5;124m'\u001b[39m]\n\u001b[0;32m     17\u001b[0m map_station_fond(img_extent,lon_mf,lat_mf,ax,\u001b[38;5;241m0.1\u001b[39m,\u001b[38;5;124m'\u001b[39m\u001b[38;5;124mfirebrick\u001b[39m\u001b[38;5;124m'\u001b[39m,titres[i],\u001b[38;5;241m30\u001b[39m)\n",
      "\u001b[1;31mNameError\u001b[0m: name 'dfs_daytoday' is not defined"
     ]
    },
    {
     "data": {
      "image/png": "[encoded data removed]",
      "text/plain": [
       "<Figure size 1600x1200 with 6 Axes>"
      ]
     },
     "metadata": {},
     "output_type": "display_data"
    }
   ],
   "source": [
    "directory_sat = 'C:/Users/barroisl/Documents/Stage_Leo/Satellites/Images_MODIS_VIIRS/'\n",
    "fnames = ['Alp_2023-08-19_13H01.jpg','Alp_2023-08-20_12H28.jpg','Alp_2023-08-21_12H46.jpg',\n",
    "          'Alp_2023-08-22_12H40.jpg','Alp_2023-08-23_12H21.jpg','Alp_2023-08-24_13H13.jpg']\n",
    "days = ['IGC_19-08-2023/','IGC_20-08-2023/','IGC_21-08-2023/','IGC_22-08-2023/','IGC_23-08-2023/','IGC_24-08-2023/']\n",
    "titres = [\"19-08-2023-13-01\",\"20-08-2023-12-28\",\"21-08-2023-12-46\",\"22-08-2023-12-40\",\"23-08-2023-12-21\",\"24-08-2023-13-13\"]\n",
    "directory = 'C:/Users/barroisl/Documents/Stage_Leo/Vols/'\n",
    "\n",
    "img_extent = (4.7942, 8.1545, 43.3545, 46.6707)\n",
    "\n",
    "fig,axs = plt.subplots(nrows=2,ncols=3,figsize=(16, 12), subplot_kw={'projection': ccrs.PlateCarree()}, layout = 'constrained')\n",
    "\n",
    "for i in range(6):\n",
    "    ax = axs[i//3,i%3]\n",
    "    img = plt.imread(directory_sat+fnames[i])\n",
    "    lon,lat = dfs_daytoday[i]['lon'],dfs_daytoday[i]['lat']\n",
    "    lon_mf,lat_mf = dfs_daytoday_mf[i]['lon'],dfs_daytoday_mf[i]['lat']\n",
    "    map_station_fond(img_extent,lon_mf,lat_mf,ax,0.1,'firebrick',titres[i],30)\n",
    "    map_station_fond(img_extent,lon,lat,ax,0.1, 'mediumpurple',titres[i],1)\n",
    "    map_all_flights_fond_para_plan(img_extent,join(directory,days[i]),ax,'plan','y',titres[i],i,i)\n",
    "    map_all_flights_fond_para_plan(img_extent,join(directory,days[i]),ax,'para','darkorange',titres[i],i,i)\n",
    "    ax.imshow(img, origin='upper', extent=img_extent, alpha = 0.8,transform=ccrs.PlateCarree())\n",
    "    if i == 5 :\n",
    "        plt.plot([0,1],[0,1],'y',linewidth = 2,label='Gliding')\n",
    "        plt.plot([0,1],[0,1],'darkorange',linewidth = 2,label='Paragliding')\n",
    "        plt.scatter(0,0,s=40, color ='firebrick',marker = '.',label='RADOME')\n",
    "        plt.scatter(0,0,s=26, color ='mediumpurple',marker = '.',label='NETATMO')\n",
    "    ax.text(0, 1.05, string.ascii_lowercase[i], transform=ax.transAxes, \n",
    "                    size=20, weight='bold')\n",
    "    lats_ville = [44.8997800,44.1875800,45.1666700,46.2043907,43.7101728,45.0704900,46.5160000,45.75,44.933331,44.15,44.75,45.30,43.05]\n",
    "    lons_ville = [6.6420100,5.9462300,5.7166700,6.1431577,7.2619532,7.6868200,6.6328200,4.85,4.9,6.65,6.10,6.60,6.5]\n",
    "    names_ville = ['Briançon','Sisteron','Grenoble','Genève','Nice','Turin','Lausanne','Lyon','Valence','Mercantour',\n",
    "        'Ecrins','Vannoise','Calanques']\n",
    "    \"\"\"\n",
    "    lons_PR = [6.70,5.2,4.55,5.3,6,5.6]\n",
    "    lats_PR = [44.70,44.3,44.8,44.8,45.7,45.3]\n",
    "    names_PR = ['Qu','Ar','Bar','Ve','Bau','Ch']\n",
    "    \"\"\"\n",
    "    ax.scatter(lons_ville[:-3],lats_ville[:-3],marker = '+',color = 'k')\n",
    "    \n",
    "    for i, txt in enumerate(names_ville):\n",
    "        if i <= len(names_ville)-5 :\n",
    "            ax.annotate(txt, (lons_ville[i], lats_ville[i]),size = 20)\n",
    "#        else : \n",
    "#            ax.annotate(txt, (lons_ville[i], lats_ville[i]),size = 15, weight = 'bold')\n",
    "            \n",
    "#    for i,txt in enumerate(names_PR):\n",
    "#        ax.annotate(txt, (lons_PR[i], lats_PR[i]),size = 15, weight = 'bold')\n",
    "      \n",
    "plt.legend()\n",
    "\n",
    "plt.savefig(savefig_path+'Map_stations_flights.png')\n",
    "plt.show()"
   ]
  },
  {
   "cell_type": "code",
   "execution_count": null,
   "id": "f133b79e-773e-48a7-b065-9101c0cd7926",
   "metadata": {},
   "outputs": [],
   "source": []
  }
 ],
 "metadata": {
  "kernelspec": {
   "display_name": "Python 3 (ipykernel)",
   "language": "python",
   "name": "python3"
  },
  "language_info": {
   "codemirror_mode": {
    "name": "ipython",
    "version": 3
   },
   "file_extension": ".py",
   "mimetype": "text/x-python",
   "name": "python",
   "nbconvert_exporter": "python",
   "pygments_lexer": "ipython3",
   "version": "3.12.1"
  }
 },
 "nbformat": 4,
 "nbformat_minor": 5
}
