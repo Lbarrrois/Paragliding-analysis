{
 "cells": [
  {
   "cell_type": "code",
   "execution_count": 2,
   "id": "b226b039-6db3-452e-a14b-43fc64e94f28",
   "metadata": {},
   "outputs": [],
   "source": [
    "from reader import Reader\n",
    "import matplotlib.pyplot as plt\n",
    "import numpy as np\n",
    "from math import sin, cos, sqrt, atan2, radians\n",
    "from datetime import datetime\n",
    "from datetime import date as date_creator\n",
    "import cartopy\n",
    "import cartopy.crs as ccrs\n",
    "import cartopy.feature as cfeature\n",
    "from numba import njit\n",
    "import pandas as pd\n",
    "import os\n",
    "from numba import jit\n",
    "from tqdm import tqdm\n",
    "from numba import njit\n",
    "import igc_lib\n",
    "\n",
    "%matplotlib inline"
   ]
  },
  {
   "cell_type": "code",
   "execution_count": 3,
   "id": "1c76d151-20d7-4c95-9f6b-5373f13cba69",
   "metadata": {},
   "outputs": [
    {
     "name": "stderr",
     "output_type": "stream",
     "text": [
      "  0%|                                                                                            | 0/6 [00:00<?, ?it/s]\n"
     ]
    },
    {
     "ename": "NameError",
     "evalue": "name 'igc_lib' is not defined",
     "output_type": "error",
     "traceback": [
      "\u001b[1;31m---------------------------------------------------------------------------\u001b[0m",
      "\u001b[1;31mNameError\u001b[0m                                 Traceback (most recent call last)",
      "Cell \u001b[1;32mIn[3], line 12\u001b[0m\n\u001b[0;32m     10\u001b[0m \u001b[38;5;28;01mfor\u001b[39;00m k \u001b[38;5;129;01min\u001b[39;00m liste_file :\n\u001b[0;32m     11\u001b[0m     flight \u001b[38;5;241m=\u001b[39m directory\u001b[38;5;241m+\u001b[39mdays[i]\u001b[38;5;241m+\u001b[39mj\u001b[38;5;241m+\u001b[39mk\n\u001b[1;32m---> 12\u001b[0m     cand \u001b[38;5;241m=\u001b[39m \u001b[43migc_lib\u001b[49m\u001b[38;5;241m.\u001b[39mFlight\u001b[38;5;241m.\u001b[39mcreate_from_file(flight, config_class\u001b[38;5;241m=\u001b[39migc_lib\u001b[38;5;241m.\u001b[39mFlightParsingConfig)\n\u001b[0;32m     13\u001b[0m     \u001b[38;5;28;01mif\u001b[39;00m cand\u001b[38;5;241m.\u001b[39mvalid \u001b[38;5;241m==\u001b[39m \u001b[38;5;28;01mTrue\u001b[39;00m :\n\u001b[0;32m     14\u001b[0m         takeoff \u001b[38;5;241m=\u001b[39m cand\u001b[38;5;241m.\u001b[39mtakeoff_fix\u001b[38;5;241m.\u001b[39mrawtime\u001b[38;5;241m+\u001b[39m\u001b[38;5;241m86400\u001b[39m\u001b[38;5;241m*\u001b[39mi\n",
      "\u001b[1;31mNameError\u001b[0m: name 'igc_lib' is not defined"
     ]
    }
   ],
   "source": [
    "directory = 'C:/Users/barroisl/Documents/Stage_LEo/Vols/'\n",
    "days = ['IGC_19-08-2023/','IGC_20-08-2023/','IGC_21-08-2023/','IGC_22-08-2023/','IGC_23-08-2023/','IGC_24-08-2023/']\n",
    "type_vols = ['Parapente/','Planeur/']\n",
    "\n",
    "interv_para = np.zeros((1,24*6-1))[0]\n",
    "interv_plan = np.zeros((1,24*6-1))[0]\n",
    "for i in tqdm(range(len(days))):\n",
    "    for j in type_vols:\n",
    "        liste_file = [f for f in os.listdir(directory+days[i]+j) if f.endswith('.igc')]\n",
    "        for k in liste_file :\n",
    "            flight = directory+days[i]+j+k\n",
    "            cand = igc_lib.Flight.create_from_file(flight, config_class=igc_lib.FlightParsingConfig)\n",
    "            if cand.valid == True :\n",
    "                takeoff = cand.takeoff_fix.rawtime+86400*i\n",
    "                landing = cand.landing_fix.rawtime + 86400*i\n",
    "                takeoff_ind = int(takeoff//(60*60))\n",
    "                landing_ind = int(landing//(60*60))\n",
    "                if takeoff_ind != landing_ind :\n",
    "                    for k in range(takeoff_ind,landing_ind):\n",
    "                        if j == 'Parapente/':\n",
    "                            interv_para[k] = interv_para[k] + 1\n",
    "                        elif j == 'Planeur/':\n",
    "                            interv_plan[k] = interv_plan[k] + 1\n",
    "                else :\n",
    "                        if j == 'Parapente/':\n",
    "                            interv_para[takeoff_ind] = interv_para[takeoff_ind] + 1  \n",
    "                        elif j == 'Planeur/':\n",
    "                            interv_plan[takeoff_ind] = interv_plan[takeoff_ind] + 1      \n",
    "\n",
    "for i in range(len(interv_plan)):\n",
    "    if interv_plan[i] == 0 :\n",
    "        interv_plan[i] = np.nan\n",
    "\n",
    "    if interv_para[i] == 0 :\n",
    "        interv_para[i] = np.nan"
   ]
  },
  {
   "cell_type": "code",
   "execution_count": null,
   "id": "07907145-20be-4ad8-a4c3-3586c6b43e75",
   "metadata": {},
   "outputs": [],
   "source": [
    "fig, ax1 = plt.subplots(figsize = (25,11))\n",
    "size = 30\n",
    "days = [19,20,21,22,23,24]\n",
    "ticks_label = ['19' + '/08 ' + str(j*6) +'h' for j in range(4)]\n",
    "for i in days[1:] :\n",
    "    ticks_label_i = [str(i) + '/08 ' + str(j*6) +'h' for j in range(4)]\n",
    "    ticks_label = ticks_label + ticks_label_i\n",
    "ticks = np.arange(0,24*6,6)\n",
    "\n",
    "color = 'tab:red'\n",
    "ax1.set_ylabel('Amount of gliding flights', color=color, fontsize=size*1.2)\n",
    "ax1.plot(interv_plan, color=color,linewidth=5)\n",
    "ax1.tick_params(axis='y', labelcolor=color)\n",
    "ax1.set_xticks(ticks, ticks_label, fontsize=size, rotation = 90)\n",
    "ax1.set_yticks(np.arange(0,160,20), [str(i) for i in np.arange(0,160,20)], fontsize=size)\n",
    "\n",
    "ax2 = ax1.twinx()  # instantiate a second axes that shares the same x-axis\n",
    "\n",
    "color = 'tab:blue'\n",
    "ax2.set_ylabel('Amount of paragliding flights', color=color, fontsize=size*1.2)  # we already handled the x-label with ax1\n",
    "ax2.plot(interv_para, color=color,linewidth=5)\n",
    "ax2.tick_params(axis='y', labelcolor=color)\n",
    "ax2.set_yticks(np.arange(0,600,100), [str(i) for i in np.arange(0,600,100)], fontsize=size)\n",
    "\n",
    "fig.tight_layout()  # otherwise the right y-label is slightly clipped\n",
    "\n",
    "plt.savefig(savefig_path+'disponibilité_journalière.png')"
   ]
  }
 ],
 "metadata": {
  "kernelspec": {
   "display_name": "Python 3 (ipykernel)",
   "language": "python",
   "name": "python3"
  },
  "language_info": {
   "codemirror_mode": {
    "name": "ipython",
    "version": 3
   },
   "file_extension": ".py",
   "mimetype": "text/x-python",
   "name": "python",
   "nbconvert_exporter": "python",
   "pygments_lexer": "ipython3",
   "version": "3.12.1"
  }
 },
 "nbformat": 4,
 "nbformat_minor": 5
}
